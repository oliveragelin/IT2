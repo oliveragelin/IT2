{
 "cells": [
  {
   "cell_type": "code",
   "execution_count": null,
   "metadata": {},
   "outputs": [],
   "source": [
    "antall_bilermerker = {}\n",
    "\n",
    "for bil in biler:\n",
    "    bilmerke = bil['bilmerke']\n",
    "    if bilmerke not in antall_bilermerker:\n",
    "        antall_bilermerker[bilmerke] = 1\n",
    "    else:\n",
    "        antall_bilermerker[bilmerke] += 1\n",
    "\n",
    "antall_bilermerker\n",
    "\n",
    "antall_solgte = {}\n",
    "\n",
    "for bil in biler:\n",
    "    bilmerke = bil['bilmerke']\n",
    "    if bilmerke not in antall_solgte:\n",
    "        antall_solgte = bil['antall_solgte']\n",
    "    else:\n",
    "        antall_solgte += bil['antall_solgte']\n",
    "\n",
    "antall_solgte"
   ]
  }
 ],
 "metadata": {
  "language_info": {
   "name": "python"
  }
 },
 "nbformat": 4,
 "nbformat_minor": 2
}
