{
 "cells": [
  {
   "cell_type": "code",
   "execution_count": 1,
   "metadata": {},
   "outputs": [
    {
     "name": "stdout",
     "output_type": "stream",
     "text": [
      "Denzel Washington (67)\n"
     ]
    }
   ],
   "source": [
    "skuespillere = [\n",
    "    {\"navn\": \"Tom Hanks\", \"alder\": 66},\n",
    "    {\"navn\": \"Meryl Streep\", \"alder\": 73},\n",
    "    {\"navn\": \"Leonardo DiCaprio\", \"alder\": 48},\n",
    "    {\"navn\": \"Julia Roberts\", \"alder\": 55},\n",
    "    {\"navn\": \"Denzel Washington\", \"alder\": 67},\n",
    "    {\"navn\": \"Nicole Kidman\", \"alder\": 55},\n",
    "    {\"navn\": \"Brad Pitt\", \"alder\": 59},\n",
    "    {\"navn\": \"Charlize Theron\", \"alder\": 47},\n",
    "    {\"navn\": \"Johnny Depp\", \"alder\": 59},\n",
    "    {\"navn\": \"Emma Stone\", \"alder\": 34},\n",
    "]\n",
    "\n",
    "\n",
    "favoritt = skuespillere[4]\n",
    "# favoritt = skuespillere[-1] # alternativ kan vi hente ut siste skuespiller -1\n",
    "print(f\"{favoritt['navn']} ({favoritt['alder']})\")"
   ]
  },
  {
   "cell_type": "code",
   "execution_count": 2,
   "metadata": {},
   "outputs": [
    {
     "name": "stdout",
     "output_type": "stream",
     "text": [
      "{'navn': 'Meryl Streep', 'alder': 73}\n",
      "56.3\n"
     ]
    }
   ],
   "source": [
    "eldst = skuespillere[0]\n",
    "totalalder = 0\n",
    "for skuespiller in skuespillere:\n",
    "    totalalder += skuespiller[\"alder\"]\n",
    "    if skuespiller[\"alder\"] > eldst[\"alder\"]:\n",
    "        eldst = skuespiller\n",
    "print(eldst)\n",
    "snitt = totalalder/len(skuespillere)\n",
    "print(snitt)"
   ]
  },
  {
   "cell_type": "code",
   "execution_count": null,
   "metadata": {},
   "outputs": [],
   "source": []
  }
 ],
 "metadata": {
  "kernelspec": {
   "display_name": "Python 3",
   "language": "python",
   "name": "python3"
  },
  "language_info": {
   "codemirror_mode": {
    "name": "ipython",
    "version": 3
   },
   "file_extension": ".py",
   "mimetype": "text/x-python",
   "name": "python",
   "nbconvert_exporter": "python",
   "pygments_lexer": "ipython3",
   "version": "3.11.1"
  }
 },
 "nbformat": 4,
 "nbformat_minor": 2
}
