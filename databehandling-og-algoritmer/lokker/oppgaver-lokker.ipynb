{
 "cells": [
  {
   "cell_type": "markdown",
   "metadata": {},
   "source": [
    "# Oppgave 2.7\n",
    "\n",
    "Hva er en while-løkke i programmering? (ett riktig svar)\n",
    "\n",
    "- en løkke som kjører et bestemt antall ganger\n",
    "- en løkke som kjører til en bestemt hendelse intreffer\n",
    "- en løkke som kjører så lenge en bestemt betingelse er sann\n",
    "- en løkke som kjører så lenge en tilfeldig betingelse er sann\n",
    "\n",
    "\n",
    "# Oppgave 2.8\n",
    "\n",
    "Hvilken av de følgende påstandene er riktig om for- og while-løkker innen programmering? Velg riktig alternativ.\n",
    "\n",
    "- en for-løkke kan bare brukes med tallsekvenser\n",
    "- en while-løkke kjører alltid et bestemt antall ganger\n",
    "- en for-løkke er best egnet når du vet hvor mange ganger du vil at løkken skal kjøre\n",
    "- en while-løkke kan ikke bruke en teller for å holde rede på hvor mange ganger den har kjørt\n",
    "\n",
    "\n",
    "# Oppgave 2.9\n",
    "\n",
    "1. Kopier listen med vinnere av gullballen 👇👇 inn i en python-fil og print ordboken til den første spilleren.\n",
    "2. Lag en for-løkke som printer navn og nasjonalitet på hver spiller.\n",
    "3. Utvid koden slik at for-løkken også printer antall gullballer spillerne har vunnet."
   ]
  },
  {
   "cell_type": "markdown",
   "metadata": {},
   "source": [
    "# Oppgave 2.7\n",
    "\n",
    "Hva er en while-løkke i programmering? (ett riktig svar)\n",
    "\n",
    "- en løkke som kjører så lenge en bestemt betingelse er sann\n"
   ]
  },
  {
   "cell_type": "markdown",
   "metadata": {},
   "source": [
    "# Oppgave 2.8\n",
    "\n",
    "Hvilken av de følgende påstandene er riktig om for- og while-løkker innen programmering? Velg riktig alternativ.\n",
    "\n",
    "- en for-løkke er best egnet når du vet hvor mange ganger du vil at løkken skal kjøre"
   ]
  },
  {
   "cell_type": "code",
   "execution_count": 2,
   "metadata": {},
   "outputs": [
    {
     "name": "stdout",
     "output_type": "stream",
     "text": [
      "{'navn': 'Luís Figo', 'år': [2000], 'nasjonalitet': 'Portugal', 'klubber': ['Real Madrid']}\n"
     ]
    }
   ],
   "source": [
    "# Oppgave 2.9\n",
    "# 1. Kopier listen med vinnere av gullballen 👇👇 inn i en python-fil og print ordboken til den første spilleren.\n",
    "gullballen = [\n",
    "  {\n",
    "    \"navn\": \"Luís Figo\",\n",
    "    \"år\": [2000],\n",
    "    \"nasjonalitet\": \"Portugal\",\n",
    "    \"klubber\": [\"Real Madrid\"]\n",
    "  },\n",
    "  {\n",
    "    \"navn\": \"Michael Owen\",\n",
    "    \"år\": [2001],\n",
    "    \"nasjonalitet\": \"England\",\n",
    "    \"klubber\": [\"Liverpool\"]\n",
    "  },\n",
    "  {\n",
    "    \"navn\": \"Ronaldo\",\n",
    "    \"år\": [2002],\n",
    "    \"nasjonalitet\": \"Brasil\",\n",
    "    \"klubber\": [\"Real Madrid\"]\n",
    "  },\n",
    "  {\n",
    "    \"navn\": \"Pavel Nedvěd\",\n",
    "    \"år\": [2003],\n",
    "    \"nasjonalitet\": \"Tsjekkia\",\n",
    "    \"klubber\": [\"Juventus\"]\n",
    "  },\n",
    "  {\n",
    "    \"navn\": \"Andriy Shevchenko\",\n",
    "    \"år\": [2004],\n",
    "    \"nasjonalitet\": \"Ukraina\",\n",
    "    \"klubber\": [\"Milan\"]\n",
    "  },\n",
    "  {\n",
    "    \"navn\": \"Ronaldinho\",\n",
    "    \"år\": [2005],\n",
    "    \"nasjonalitet\": \"Brasil\",\n",
    "    \"klubber\": [\"Barcelona\"]\n",
    "  },\n",
    "  {\n",
    "    \"navn\": \"Fabio Cannavaro\",\n",
    "    \"år\": [2006],\n",
    "    \"nasjonalitet\": \"Italia\",\n",
    "    \"klubber\": [\"Real Madrid\"]\n",
    "  },\n",
    "  {\n",
    "    \"navn\": \"Kaká\",\n",
    "    \"år\": [2007],\n",
    "    \"nasjonalitet\": \"Brasil\",\n",
    "    \"klubber\": [\"Milan\"]\n",
    "  },\n",
    "  {\n",
    "    \"navn\": \"Cristiano Ronaldo\",\n",
    "    \"år\": [2008, 2013, 2014, 2016, 2017],\n",
    "    \"nasjonalitet\": \"Portugal\",\n",
    "    \"klubber\": [\"Manchester United\", \"Real Madrid\"]\n",
    "  },\n",
    "  {\n",
    "    \"navn\": \"Lionel Messi\",\n",
    "    \"år\": [2009, 2010, 2011, 2012, 2015, 2019, 2021, 2023],\n",
    "    \"nasjonalitet\": \"Argentina\",\n",
    "    \"klubber\": [\"Barcelona\", \"Paris Saint-Germain F.C.\", \"Inter Miami\"]\n",
    "  },\n",
    "  {\n",
    "    \"navn\": \"Luka Modric\",\n",
    "    \"år\": [2018],\n",
    "    \"nasjonalitet\": \"Kroatia\",\n",
    "    \"klubber\": [\"Real Madrid\"]\n",
    "  },\n",
    "  {\n",
    "    \"navn\": \"Karim Benzema\",\n",
    "    \"år\": [2022],\n",
    "    \"nasjonalitet\": \"Frankrike\",\n",
    "    \"klubber\": [\"Real Madrid\"]\n",
    "  }\n",
    "]\n",
    "\n",
    "print(gullballen[0])"
   ]
  },
  {
   "cell_type": "code",
   "execution_count": 3,
   "metadata": {},
   "outputs": [
    {
     "name": "stdout",
     "output_type": "stream",
     "text": [
      "Luís Figo, Portugal\n",
      "Michael Owen, England\n",
      "Ronaldo, Brasil\n",
      "Pavel Nedvěd, Tsjekkia\n",
      "Andriy Shevchenko, Ukraina\n",
      "Ronaldinho, Brasil\n",
      "Fabio Cannavaro, Italia\n",
      "Kaká, Brasil\n",
      "Cristiano Ronaldo, Portugal\n",
      "Lionel Messi, Argentina\n",
      "Luka Modric, Kroatia\n",
      "Karim Benzema, Frankrike\n"
     ]
    }
   ],
   "source": [
    "# 2. Lag en for-løkke som printer navn og nasjonalitet på hver spiller.\n",
    "\n",
    "for spiller in gullballen:\n",
    "    print(f\"{spiller['navn']}, {spiller['nasjonalitet']}\")"
   ]
  },
  {
   "cell_type": "code",
   "execution_count": 13,
   "metadata": {},
   "outputs": [
    {
     "name": "stdout",
     "output_type": "stream",
     "text": [
      "Luís Figo, Portugal, 1 gullball, [2000]\n",
      "Michael Owen, England, 1 gullball, [2001]\n",
      "Ronaldo, Brasil, 1 gullball, [2002]\n",
      "Pavel Nedvěd, Tsjekkia, 1 gullball, [2003]\n",
      "Andriy Shevchenko, Ukraina, 1 gullball, [2004]\n",
      "Ronaldinho, Brasil, 1 gullball, [2005]\n",
      "Fabio Cannavaro, Italia, 1 gullball, [2006]\n",
      "Kaká, Brasil, 1 gullball, [2007]\n",
      "Cristiano Ronaldo, Portugal, 5 gullball, [2008, 2013, 2014, 2016, 2017]\n",
      "Lionel Messi, Argentina, 8 gullball, [2009, 2010, 2011, 2012, 2015, 2019, 2021, 2023]\n",
      "Luka Modric, Kroatia, 1 gullball, [2018]\n",
      "Karim Benzema, Frankrike, 1 gullball, [2022]\n"
     ]
    }
   ],
   "source": [
    "# 3. Utvid koden slik at for-løkken også printer antall gullballer spillerne har vunnet.\n",
    "for spiller in gullballen:\n",
    "    print(f\"{spiller['navn']}, {spiller['nasjonalitet']}, {len(spiller['år'])} gullball, {spiller['år']}\")\n"
   ]
  },
  {
   "cell_type": "code",
   "execution_count": null,
   "metadata": {},
   "outputs": [],
   "source": []
  }
 ],
 "metadata": {
  "kernelspec": {
   "display_name": "Python 3",
   "language": "python",
   "name": "python3"
  },
  "language_info": {
   "codemirror_mode": {
    "name": "ipython",
    "version": 3
   },
   "file_extension": ".py",
   "mimetype": "text/x-python",
   "name": "python",
   "nbconvert_exporter": "python",
   "pygments_lexer": "ipython3",
   "version": "3.11.1"
  }
 },
 "nbformat": 4,
 "nbformat_minor": 2
}
