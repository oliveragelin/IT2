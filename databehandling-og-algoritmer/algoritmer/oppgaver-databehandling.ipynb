{
 "cells": [
  {
   "cell_type": "code",
   "execution_count": 1,
   "metadata": {},
   "outputs": [
    {
     "name": "stdout",
     "output_type": "stream",
     "text": [
      "<class 'list'>\n"
     ]
    },
    {
     "data": {
      "text/plain": [
       "{'navn': 'La Diabla',\n",
       " 'artist': 'Xavi',\n",
       " 'bilde_url': 'https://i.scdn.co/image/ab67616d00001e021501c770de50a22b25d67611',\n",
       " 'plassering': 1,\n",
       " 'forrige_plassering': 1,\n",
       " 'topplassering': 1,\n",
       " 'topp_dato': '2024-01-11',\n",
       " 'uker_paa_listen': 5,\n",
       " 'antall_streams': 34195950}"
      ]
     },
     "execution_count": 1,
     "metadata": {},
     "output_type": "execute_result"
    }
   ],
   "source": [
    "import json\n",
    "with open(\"spotify-weekly-top-songs-global-uke2-2023.json\") as fil:\n",
    "    data = json.load(fil)\n",
    "print(type(data)) # printer ut datatypen, for å sjekke hva vi har jobbet med\n",
    "data[0]"
   ]
  },
  {
   "cell_type": "code",
   "execution_count": 3,
   "metadata": {},
   "outputs": [
    {
     "name": "stdout",
     "output_type": "stream",
     "text": [
      "Imagine Dragons Believer 358\n"
     ]
    }
   ],
   "source": [
    "# Oppgave 1.1\n",
    "høyest_uker = -1\n",
    "høyest_artist = \"\"\n",
    "høyest_navn = \"\"\n",
    "for sang in data:\n",
    "    #print(sang[\"artist\"], sang[\"navn\"], sang[\"uker_paa_listen\"])\n",
    "    sang_uker = sang[\"uker_paa_listen\"]\n",
    "    sang_artist = sang[\"artist\"]\n",
    "    sang_navn = sang[\"navn\"]\n",
    "    if sang_uker > høyest_uker:\n",
    "        høyest_uker = sang_uker\n",
    "        høyest_artist = sang_artist\n",
    "        høyest_navn = sang_navn\n",
    "\n",
    "\n",
    "print(høyest_artist, høyest_navn, høyest_uker)"
   ]
  },
  {
   "cell_type": "code",
   "execution_count": 4,
   "metadata": {},
   "outputs": [
    {
     "name": "stdout",
     "output_type": "stream",
     "text": [
      "Taylor Swift har totalt 120017297 antall streams, som gir et snitt på 12001729.7 per sang\n"
     ]
    }
   ],
   "source": [
    "# Oppgave 1.2\n",
    "total = 0\n",
    "antall = 0\n",
    "for sang in data:\n",
    "    if sang[\"artist\"] == \"Taylor Swift\":\n",
    "        total += sang[\"antall_streams\"]\n",
    "        antall += 1\n",
    "print(f\"Taylor Swift har totalt {total} antall streams, som gir et snitt på {total/antall} per sang\")"
   ]
  },
  {
   "cell_type": "code",
   "execution_count": null,
   "metadata": {},
   "outputs": [],
   "source": [
    "# Oppgave 1.3"
   ]
  }
 ],
 "metadata": {
  "kernelspec": {
   "display_name": "Python 3",
   "language": "python",
   "name": "python3"
  },
  "language_info": {
   "codemirror_mode": {
    "name": "ipython",
    "version": 3
   },
   "file_extension": ".py",
   "mimetype": "text/x-python",
   "name": "python",
   "nbconvert_exporter": "python",
   "pygments_lexer": "ipython3",
   "version": "3.11.1"
  }
 },
 "nbformat": 4,
 "nbformat_minor": 2
}
