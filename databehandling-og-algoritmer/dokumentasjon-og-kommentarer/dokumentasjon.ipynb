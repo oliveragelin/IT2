{
 "cells": [
  {
   "cell_type": "code",
   "execution_count": 1,
   "metadata": {},
   "outputs": [
    {
     "name": "stdout",
     "output_type": "stream",
     "text": [
      "Hallo, verden !\n"
     ]
    }
   ],
   "source": [
    "print(\"Hallo, verden !\")"
   ]
  },
  {
   "cell_type": "markdown",
   "metadata": {},
   "source": [
    "# Dokumentasjon og kommentarer\n",
    "\n",
    "## Plan\n",
    "\n",
    "1. Horfor kommentere/dokumentere\n",
    "\n",
    "2. Kommentarer vs. Dokumentasjon\n",
    "\n",
    "3. Kommentarer\n",
    "    1. Hvordan ?\n",
    "    2. Trenger vi egentlig kommentarer ?\n",
    "\n",
    "4. Type hinting\n",
    "\n",
    "5. Docstrings\n",
    "\n",
    "\n",
    "## Oppgaver\n",
    "\n",
    "- 3.17 - 3.20 på it.thorcc.no\n",
    "- Prosjektarbeid"
   ]
  },
  {
   "cell_type": "markdown",
   "metadata": {},
   "source": [
    "## Hvorfor kommentere/dokumentere kode?\n",
    "\n",
    "\"Code is more often read than written\" - Guido von Rossum (Skaperen av Python)"
   ]
  },
  {
   "cell_type": "markdown",
   "metadata": {},
   "source": [
    "## Komentarer"
   ]
  },
  {
   "cell_type": "code",
   "execution_count": null,
   "metadata": {},
   "outputs": [],
   "source": [
    "# Kommentarer i pythin skrives med hashtag (#)\n",
    "\n",
    "\"\"\"Dette er også en kommentar,\n",
    "kommentarer med tre anførselstegn\n",
    " kan gå over flere linjer\"\"\"\n",
    "\n",
    "# I følge Pythons stilguide (PEP 8) En kommentar skal ikke være lenger enn 72 tegn,\n",
    "# hvis en kommentar er lenger enn 72 tegn, legger vi på et linjeskift.\n",
    "# Det er vanlig å bruke hashtags selv om vi har lange kommentarer som går over flere\n",
    "# linjer."
   ]
  },
  {
   "cell_type": "code",
   "execution_count": null,
   "metadata": {},
   "outputs": [],
   "source": [
    "def ta_på_regntøy(vær):\n",
    "    # sjekker om været er regn\n",
    "    if vær == \"regn\":\n",
    "        # returnerer True hvis været er regn\n",
    "        return True\n",
    "    else:\n",
    "        # returnerer False hvis været ikke er regn\n",
    "        return False"
   ]
  },
  {
   "cell_type": "code",
   "execution_count": 4,
   "metadata": {},
   "outputs": [
    {
     "ename": "ValueError",
     "evalue": "could not convert string to float: ''",
     "output_type": "error",
     "traceback": [
      "\u001b[0;31m---------------------------------------------------------------------------\u001b[0m",
      "\u001b[0;31mValueError\u001b[0m                                Traceback (most recent call last)",
      "Cell \u001b[0;32mIn[4], line 8\u001b[0m\n\u001b[1;32m      1\u001b[0m \u001b[38;5;66;03m# 3.17\u001b[39;00m\n\u001b[1;32m      2\u001b[0m \n\u001b[1;32m      3\u001b[0m \u001b[38;5;66;03m# 2. Hva gjør koden?\u001b[39;00m\n\u001b[0;32m   (...)\u001b[0m\n\u001b[1;32m      6\u001b[0m \u001b[38;5;66;03m# 3. Legg på kommentarer slik at koden blir forståelig for andre\u001b[39;00m\n\u001b[1;32m      7\u001b[0m \u001b[38;5;66;03m# Spør brukeren om grunnlinja og konverterer til flyttall (desimaltall)\u001b[39;00m\n\u001b[0;32m----> 8\u001b[0m a \u001b[38;5;241m=\u001b[39m \u001b[38;5;28;43mfloat\u001b[39;49m\u001b[43m(\u001b[49m\u001b[38;5;28;43minput\u001b[39;49m\u001b[43m(\u001b[49m\u001b[38;5;124;43m\"\u001b[39;49m\u001b[38;5;124;43mGrunnlinje (cm): \u001b[39;49m\u001b[38;5;124;43m\"\u001b[39;49m\u001b[43m)\u001b[49m\u001b[43m)\u001b[49m\n\u001b[1;32m      9\u001b[0m \u001b[38;5;66;03m# Spør brukeren om høyden og konverterer til flyttall (desimaltall)\u001b[39;00m\n\u001b[1;32m     10\u001b[0m b \u001b[38;5;241m=\u001b[39m \u001b[38;5;28mfloat\u001b[39m(\u001b[38;5;28minput\u001b[39m(\u001b[38;5;124m\"\u001b[39m\u001b[38;5;124mHøyde (cm): \u001b[39m\u001b[38;5;124m\"\u001b[39m))\n",
      "\u001b[0;31mValueError\u001b[0m: could not convert string to float: ''"
     ]
    }
   ],
   "source": [
    "# 3.17\n",
    "\n",
    "# 2. Hva gjør koden?\n",
    "# regner areal av trekanter.\n",
    " \n",
    "# 3. Legg på kommentarer slik at koden blir forståelig for andre\n",
    "# Spør brukeren om grunnlinja og konverterer til flyttall (desimaltall)\n",
    "a = float(input(\"Grunnlinje (cm): \"))\n",
    "# Spør brukeren om høyden og konverterer til flyttall (desimaltall)\n",
    "b = float(input(\"Høyde (cm): \"))\n",
    " \n",
    "# Regner ut arealet av trekanten\n",
    "c = a*b/2\n",
    "# Printer arealet med en liten tekst\n",
    "print(f\"Arealet er {c} cm^2\")\n",
    " \n",
    "## ------\n",
    "# 4. Fjern alle kommentarer og endre koden slik at den blir enklere å forstå\n",
    "\n",
    "grunnlinje = float(input(\"Grunnlinje (cm): \"))\n",
    "høyde = float(input(\"Høyde (cm): \"))\n",
    " \n",
    "areal = grunnlinje*høyde/2\n",
    "print(f\"Arealet er {areal} cm^2\")\n",
    " \n",
    "\n",
    "# 5. Se over koden og legg på eventuelle nødvendige kommentarer\n",
    " \n",
    "# TODO Lim inn koden på nytt her"
   ]
  },
  {
   "cell_type": "code",
   "execution_count": null,
   "metadata": {},
   "outputs": [],
   "source": [
    "# 2. Hva gjør koden?\n",
    "# Teller antall sjåfører i lista f1. Printer antall britiske og spanske sjåfører\n",
    " \n",
    "# 3. Legg på kommentarer slik at koden blir forståelig for andre\n",
    "# Liste med f1-sjåfører\n",
    "f1 = [\n",
    "    {\"navn\": \"Max Verstappen\", \"nasjonalitet\": \"nederlandsk\", \"team\": \"Red Bull Racing\", \"bilnummer\": 1},\n",
    "    {\"navn\": \"Sergio Perez\", \"nasjonalitet\": \"meksikansk\", \"team\": \"Red Bull Racing\", \"bilnummer\": 11},\n",
    "    {\"navn\": \"Lewis Hamilton\", \"nasjonalitet\": \"britisk\", \"team\": \"Mercedes\", \"bilnummer\": 44},\n",
    "    {\"navn\": \"George Russell\", \"nasjonalitet\": \"britisk\", \"team\": \"Mercedes\", \"bilnummer\": 63},\n",
    "    {\"navn\": \"Charles Leclerc\", \"nasjonalitet\": \"monegaskisk\", \"team\": \"Ferrari\", \"bilnummer\": 16},\n",
    "    {\"navn\": \"Kevin Magnussen\", \"nasjonalitet\": \"dansk\", \"team\": \"Haas F1 Team\", \"bilnummer\": 20},\n",
    "    {\"navn\": \"Nico Hulkenberg\", \"nasjonalitet\": \"tysk\", \"team\": \"Haas F1 Team\", \"bilnummer\": 27}\n",
    "]\n",
    "\n",
    "# Lager en tom ordbok\n",
    "antall = {}\n",
    "\n",
    "# for-løkke - For hver sjåfør i lista:\n",
    "for s in f1:\n",
    "           \n",
    "  if s['nasjonalitet'] not in antall:\n",
    "    antall[s['nasjonalitet']] = 1\n",
    "  else:\n",
    "    antall[s['nasjonalitet']] += 1\n",
    " \n",
    "print(antall[\"britisk\"])\n",
    "print(antall[\"spansk\"])\n",
    " \n",
    "## ------\n",
    "# 4. Fjern alle kommentarer og endre koden slik at den blir enklere å forstå\n",
    "# 5. Se over koden, og legg på eventuelle kommentarer\n",
    " \n",
    "# TODO Lim inn koden på nytt under her, og endre koden:\n",
    " "
   ]
  },
  {
   "cell_type": "markdown",
   "metadata": {},
   "source": [
    "## Type hinting og Docstrings\n",
    "\n",
    "Type hinting og docstrings er spesielle kommentarer for å dokumentere kode.\n",
    "Dokumentasjon av kode lages for å hjelpe utviklere å bruke koden.\n",
    "For eksempel dokumentasjonen som er laget for å forklare random.randint-funksjonen er\n",
    "laget for å forklare utviklere hvordan funksjonen skal brukes.\n",
    "\n",
    "\"Vanlige\" kommentarer er laget for de som skal endre / forbedre kode, mens dokumentasjon lages for programmerere som skaal bruke kode."
   ]
  },
  {
   "cell_type": "code",
   "execution_count": 6,
   "metadata": {},
   "outputs": [
    {
     "data": {
      "text/plain": [
       "25.0"
      ]
     },
     "execution_count": 6,
     "metadata": {},
     "output_type": "execute_result"
    }
   ],
   "source": [
    "# Type hinting\n",
    "\n",
    "# Type hinting skrives etter parametere i funksjoner for å dokumentere hva slags datatyper\n",
    "# parameterene skal være. I eksemplet\n",
    "\n",
    "def areal_trekant(grunnlinje: float, høyde: float) -> int:\n",
    "    \"\"\"\n",
    "    En funksjon som regner ut areal av trekanter\n",
    "\n",
    "    parametere\n",
    "        grunnlinje (float): grunnlinja i trekanten\n",
    "        høyde (float): høyden i trekanten\n",
    "    \"\"\"\n",
    "    return grunnlinje * høyde / 2\n",
    "\n",
    "areal_trekant(10, 5)\n",
    "areal_trekant(10, 5)"
   ]
  },
  {
   "cell_type": "code",
   "execution_count": null,
   "metadata": {},
   "outputs": [],
   "source": [
    "# Docstring\n",
    "\n",
    "# Docstrings er dokumentasjon som vises når vi bruker en funksjon eller klasse i VSCode,\n",
    "# de skrives mellom tre anførselstegn.\n",
    "# Det er vanlig åbeskrive hva funksjonen gjør og hva parameterene er. \n",
    "\n",
    "def areal_trekant(grunnlinje: float, høyde: float) -> float:\n",
    "    return grunnlinje * høyde / 2\n",
    "\n",
    "areal_trekant(10, 5)\n",
    "areal_trekant()"
   ]
  }
 ],
 "metadata": {
  "kernelspec": {
   "display_name": "Python 3",
   "language": "python",
   "name": "python3"
  },
  "language_info": {
   "codemirror_mode": {
    "name": "ipython",
    "version": 3
   },
   "file_extension": ".py",
   "mimetype": "text/x-python",
   "name": "python",
   "nbconvert_exporter": "python",
   "pygments_lexer": "ipython3",
   "version": "3.11.1"
  }
 },
 "nbformat": 4,
 "nbformat_minor": 2
}
